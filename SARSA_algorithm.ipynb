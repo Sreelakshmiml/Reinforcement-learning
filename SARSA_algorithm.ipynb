{
  "nbformat": 4,
  "nbformat_minor": 0,
  "metadata": {
    "colab": {
      "provenance": [],
      "gpuType": "T4"
    },
    "kernelspec": {
      "name": "python3",
      "display_name": "Python 3"
    },
    "language_info": {
      "name": "python"
    },
    "accelerator": "GPU"
  },
  "cells": [
    {
      "cell_type": "code",
      "execution_count": null,
      "metadata": {
        "id": "GEGKWHGYrDn7"
      },
      "outputs": [],
      "source": [
        "import numpy as np\n",
        "import gym"
      ]
    },
    {
      "cell_type": "code",
      "source": [
        "new_step_api=True"
      ],
      "metadata": {
        "colab": {
          "base_uri": "https://localhost:8080/"
        },
        "id": "ffWsUP0VsSNa",
        "outputId": "afe06396-883f-427d-fcd6-6fc54385d5fc"
      },
      "execution_count": null,
      "outputs": [
        {
          "output_type": "stream",
          "name": "stderr",
          "text": [
            "/usr/local/lib/python3.10/dist-packages/ipykernel/ipkernel.py:283: DeprecationWarning: `should_run_async` will not call `transform_cell` automatically in the future. Please pass the result to `transformed_cell` argument and any exception that happen during thetransform in `preprocessing_exc_tuple` in IPython 7.17 and above.\n",
            "  and should_run_async(code)\n"
          ]
        }
      ]
    },
    {
      "cell_type": "code",
      "source": [
        "#Environment building\n",
        "env = gym.make('FrozenLake-v1',render_mode='human')"
      ],
      "metadata": {
        "colab": {
          "base_uri": "https://localhost:8080/"
        },
        "id": "XNS7XS5Cr9e5",
        "outputId": "9a32d431-c80f-464f-d7b2-6fa99b6f869a"
      },
      "execution_count": null,
      "outputs": [
        {
          "output_type": "stream",
          "name": "stderr",
          "text": [
            "/usr/local/lib/python3.10/dist-packages/gym/core.py:317: DeprecationWarning: \u001b[33mWARN: Initializing wrapper in old step API which returns one bool instead of two. It is recommended to set `new_step_api=True` to use new step API. This will be the default behaviour in future.\u001b[0m\n",
            "  deprecation(\n",
            "/usr/local/lib/python3.10/dist-packages/gym/wrappers/step_api_compatibility.py:39: DeprecationWarning: \u001b[33mWARN: Initializing environment in old step API which returns one bool instead of two. It is recommended to set `new_step_api=True` to use new step API. This will be the default behaviour in future.\u001b[0m\n",
            "  deprecation(\n"
          ]
        }
      ]
    },
    {
      "cell_type": "code",
      "source": [
        "#parameters\n",
        "epsilon = 0.9\n",
        "total_episodes = 5000\n",
        "max_steps = 100\n",
        "alpha = 0.85\n",
        "gamma = 0.95\n",
        "\n",
        "#Q-matrix\n",
        "Q = np.zeros((env.observation_space.n, env.action_space.n))"
      ],
      "metadata": {
        "id": "6fPepu0IsHjx"
      },
      "execution_count": null,
      "outputs": []
    },
    {
      "cell_type": "code",
      "source": [
        "#defining function to choose next action\n",
        "def choose_action(state):\n",
        "  action=0\n",
        "  if np.random.uniform(0,1)<epsilon:\n",
        "    action=env.action_space.sample()\n",
        "  else:\n",
        "    action=np.argmax(Q[state,:])\n",
        "  return action"
      ],
      "metadata": {
        "id": "K6RijVOZuZF_"
      },
      "execution_count": null,
      "outputs": []
    },
    {
      "cell_type": "code",
      "source": [
        "#defining fun to learn Q-value\n",
        "def update(state,state2,reward,action,action2):\n",
        "  predict = Q[state,action]\n",
        "  target = reward + gamma * Q[state2,action2]\n",
        "  Q[state,action] = Q[state,action] + alpha * (target-predict)"
      ],
      "metadata": {
        "id": "MjrP7IYbwU2b"
      },
      "execution_count": null,
      "outputs": []
    },
    {
      "cell_type": "code",
      "source": [],
      "metadata": {
        "id": "wpN63fKOzYJN"
      },
      "execution_count": null,
      "outputs": []
    },
    {
      "cell_type": "code",
      "source": [
        "reward = 0\n",
        "\n",
        "for episode in range(total_episodes):\n",
        "  t=0\n",
        "  state1 =env.reset()\n",
        "  action1 = choose_action(state1)\n",
        "\n",
        "  while t<max_steps:\n",
        "    env.render()\n",
        "    state2, reward, done, info = env.step(action1)\n",
        "    action2 = choose_action(state2)\n",
        "    update(state1,state2,reward,action1,action2)\n",
        "    state1=state2\n",
        "    action1=action2\n",
        "    t+=1\n",
        "    reward+=1\n",
        "\n",
        "    if done:\n",
        "      break"
      ],
      "metadata": {
        "id": "eOTqG9QnxlKK"
      },
      "execution_count": null,
      "outputs": []
    },
    {
      "cell_type": "code",
      "source": [
        "#performance\n",
        "print (\"Performance : \", reward/total_episodes)\n",
        "#Q-matrix\n",
        "print(Q)"
      ],
      "metadata": {
        "id": "pibqYHvwy57P"
      },
      "execution_count": null,
      "outputs": []
    },
    {
      "cell_type": "code",
      "source": [],
      "metadata": {
        "id": "qMiVbUaBzzrq"
      },
      "execution_count": null,
      "outputs": []
    }
  ]
}