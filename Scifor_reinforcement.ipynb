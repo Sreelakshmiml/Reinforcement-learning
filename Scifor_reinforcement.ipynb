{
  "nbformat": 4,
  "nbformat_minor": 0,
  "metadata": {
    "colab": {
      "provenance": [],
      "include_colab_link": true
    },
    "kernelspec": {
      "name": "python3",
      "display_name": "Python 3"
    },
    "language_info": {
      "name": "python"
    }
  },
  "cells": [
    {
      "cell_type": "markdown",
      "metadata": {
        "id": "view-in-github",
        "colab_type": "text"
      },
      "source": [
        "<a href=\"https://colab.research.google.com/github/Sreelakshmiml/Reinforcement-learning/blob/main/Scifor_reinforcement.ipynb\" target=\"_parent\"><img src=\"https://colab.research.google.com/assets/colab-badge.svg\" alt=\"Open In Colab\"/></a>"
      ]
    },
    {
      "cell_type": "markdown",
      "source": [
        "Reinforcement learning- q leraning basic implementation"
      ],
      "metadata": {
        "id": "WRqSts-5SbK1"
      }
    },
    {
      "cell_type": "code",
      "execution_count": null,
      "metadata": {
        "id": "UWBEIU5DSaH-"
      },
      "outputs": [],
      "source": [
        "import random\n",
        "from typing import List"
      ]
    },
    {
      "cell_type": "code",
      "source": [
        "#defining the environment\n",
        "class Environment:\n",
        "\n",
        "  def __init__(self):\n",
        "    self.steps = 20\n",
        "\n",
        "  def observations(self) -> List[float]:\n",
        "    return [0.0,0.0,0.0]\n",
        "\n",
        "  def get_actions(self) -> List[int]:\n",
        "    return [0,1]\n",
        "\n",
        "  def is_done(self) -> bool:\n",
        "    return self.steps == 0\n",
        "\n",
        "  def action(self, action : int) -> float:\n",
        "    if self.is_done():\n",
        "      raise Exception(\"Game is over\")\n",
        "    self.steps -= 1\n",
        "    return random.random()"
      ],
      "metadata": {
        "id": "sTvMCH4JT2jD"
      },
      "execution_count": null,
      "outputs": []
    },
    {
      "cell_type": "code",
      "source": [
        "# defining the agent class\n",
        "class Agent:\n",
        "\n",
        "  def __init__(self):\n",
        "    self.total_reward = 0.0\n",
        "\n",
        "  def step(self, env : Environment):\n",
        "    observation = env.observations()\n",
        "    print(observation)\n",
        "    actions = env.get_actions()\n",
        "    print(actions)\n",
        "    reward = env.action(random.choice(actions))\n",
        "    self.total_reward += reward\n"
      ],
      "metadata": {
        "id": "qUsywgbXXTDr"
      },
      "execution_count": null,
      "outputs": []
    },
    {
      "cell_type": "code",
      "source": [
        "if __name__ == \"__main__\":\n",
        "\n",
        "    # Initialize environment and agent\n",
        "    env = Environment()\n",
        "    agent = Agent()\n",
        "\n",
        "    num_steps = 10\n",
        "    for step in range(num_steps):\n",
        "        if not env.is_done():\n",
        "            agent.step(env)\n",
        "        else:\n",
        "            print(\"Game is over.\")\n",
        "            break\n",
        "    print(f\"Total rewards obtained: {agent.total_reward}\")\n",
        "\n",
        "\n"
      ],
      "metadata": {
        "colab": {
          "base_uri": "https://localhost:8080/"
        },
        "id": "j_x4aQVPZRNf",
        "outputId": "4a7ab46c-ae86-497e-eb47-6e9f366e67d8"
      },
      "execution_count": null,
      "outputs": [
        {
          "output_type": "stream",
          "name": "stdout",
          "text": [
            "[0.0, 0.0, 0.0]\n",
            "[0, 1]\n",
            "[0.0, 0.0, 0.0]\n",
            "[0, 1]\n",
            "[0.0, 0.0, 0.0]\n",
            "[0, 1]\n",
            "[0.0, 0.0, 0.0]\n",
            "[0, 1]\n",
            "[0.0, 0.0, 0.0]\n",
            "[0, 1]\n",
            "[0.0, 0.0, 0.0]\n",
            "[0, 1]\n",
            "[0.0, 0.0, 0.0]\n",
            "[0, 1]\n",
            "[0.0, 0.0, 0.0]\n",
            "[0, 1]\n",
            "[0.0, 0.0, 0.0]\n",
            "[0, 1]\n",
            "[0.0, 0.0, 0.0]\n",
            "[0, 1]\n",
            "Total rewards obtained: 6.083898343786569\n"
          ]
        }
      ]
    }
  ]
}